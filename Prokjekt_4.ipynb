{
 "cells": [
  {
   "cell_type": "code",
   "execution_count": 57,
   "id": "6d38673c",
   "metadata": {},
   "outputs": [
    {
     "data": {
      "text/plain": [
       "array([[1, 1, 1, 1, 1, 1, 1, 1, 1, 1],\n",
       "       [1, 1, 1, 1, 1, 1, 1, 1, 1, 1],\n",
       "       [1, 1, 1, 1, 1, 1, 1, 1, 1, 1],\n",
       "       [1, 1, 1, 1, 1, 1, 1, 1, 1, 1],\n",
       "       [1, 1, 1, 1, 1, 1, 1, 1, 1, 1]])"
      ]
     },
     "execution_count": 57,
     "metadata": {},
     "output_type": "execute_result"
    }
   ],
   "source": [
    "import matplotlib.pyplot as plt\n",
    "import numpy as np\n",
    "import time\n",
    "from IPython import display\n",
    "#import pygame\n",
    "\n",
    "def create_database(x,y,p):   #x ist die Höhe der Fläche, y die Länge und p die Wahrscheinlichkeit, dass eine Zelle ein Baum ist \n",
    "    return np.random.choice([0,1],size=(x,y),p=[1-p,p])\n",
    "\n",
    "p=np.random.randint(0,101)/100\n",
    "\n",
    "data = create_database(5,10,p)\n",
    "data\n",
    "\n",
    "\n"
   ]
  },
  {
   "cell_type": "code",
   "execution_count": 62,
   "id": "efa10866",
   "metadata": {},
   "outputs": [
    {
     "data": {
      "text/plain": [
       "0"
      ]
     },
     "execution_count": 62,
     "metadata": {},
     "output_type": "execute_result"
    },
    {
     "data": {
      "image/png": "[encoded data removed]",
      "text/plain": [
       "<Figure size 640x480 with 1 Axes>"
      ]
     },
     "metadata": {},
     "output_type": "display_data"
    }
   ],
   "source": [
    "\n",
    "\n",
    "def waldanzeige(x,y,wald):\n",
    "    x1,y1 = np.where(wald==1)# Baum x \n",
    "    x2,y2 = np.where(wald==0) # Leer x\n",
    "    x3,y3 = np.where(wald==2) # Feuer x  \n",
    "    plt.title(\"Brandausbreitung in einem Wald\",fontweight=\"bold\",fontname=\"Arial\",fontsize=\"15\")\n",
    "    plt.scatter(x1,y1,c='green',marker='.',s=30) # Baum\n",
    "    plt.scatter(x2,y2,c='grey',marker='.',s=30)#Leer\n",
    "    plt.scatter(x3,y3,c='red',marker='.',s=30)#Feuer\n",
    "    return 0\n",
    "\n",
    "#data[5][5]=1\n",
    "\n",
    "waldanzeige(100,100,data)\n",
    "\n",
    "\n"
   ]
  },
  {
   "cell_type": "code",
   "execution_count": 32,
   "id": "ffa9afe3",
   "metadata": {},
   "outputs": [
    {
     "data": {
      "text/plain": [
       "array([[0, 0, 1, 1, 0],\n",
       "       [1, 1, 1, 1, 1],\n",
       "       [1, 0, 1, 1, 1],\n",
       "       [1, 0, 1, 1, 1],\n",
       "       [2, 0, 1, 1, 1]])"
      ]
     },
     "execution_count": 32,
     "metadata": {},
     "output_type": "execute_result"
    }
   ],
   "source": [
    "def init_feuerausbreitung(wald): \n",
    "    if(len(np.unique(wald))==2):\n",
    "        x,y=np.where(wald==1)\n",
    "        random_i = np.random.randint(0,len(x),1)\n",
    "        i_x = int(x[random_i])\n",
    "        i_y = int(y[random_i])\n",
    "        wald[i_x][i_y]=2\n",
    "    elif(np.unique(wald)==[1]).any():\n",
    "        x,y=np.where(wald==1)\n",
    "        random_i = np.random.randint(0,len(x),1)\n",
    "        i_x = int(x[random_i])\n",
    "        i_y = int(y[random_i])\n",
    "        wald[i_x][i_y]=2        \n",
    "    return wald\n",
    "\n",
    "init_feuerausbreitung(data)\n",
    "\n"
   ]
  },
  {
   "cell_type": "code",
   "execution_count": 58,
   "id": "e4d10f26",
   "metadata": {},
   "outputs": [
    {
     "name": "stdout",
     "output_type": "stream",
     "text": [
      "Anzhl der Baum =  49 \n",
      " Anteil des verbrannten Baumes als Funktion der Zeit:  []\n"
     ]
    },
    {
     "data": {
      "text/plain": [
       "0"
      ]
     },
     "execution_count": 58,
     "metadata": {},
     "output_type": "execute_result"
    }
   ],
   "source": [
    "def feuerausbreitung(wald,proba): #wald ist die Fläche und proba ist die Warhscheinlikeit, dass ein Baum, der neben ein Feuer steht in der nächste Zeitschritten brennt\n",
    "    proba=proba*100\n",
    "    prop_abr_brul=[]\n",
    "    if(len(np.where(wald==2)[0])==0):\n",
    "        init_feuerausbreitung(wald)\n",
    "    x,y = np.where(wald==2)\n",
    "    zh_baum_inital = len(np.where(wald==1)[0])\n",
    "    for i in range(len(x)):\n",
    "        if (x[i]<len(wald)-1) and (y[i]<len(wald[0])-1) and (x[i]>0) and (y[i] > 0):\n",
    "            print(\"len(wald[0]) = \",len(wald[0]),\"\\n\")\n",
    "            rand=np.random.randint(0,101)\n",
    "            if wald[x[i]+1][y[i]]==1 and rand<=proba: #Recht\n",
    "                wald[x[i]+1][y[i]]=2 \n",
    "            rand=np.random.randint(0,101)\n",
    "            if wald[x[i]-1][y[i]]==1 and rand<=proba: #Links\n",
    "                wald[x[i]-1][y[i]]=2\n",
    "            rand=np.random.randint(0,101)\n",
    "            if wald[x[i]][y[i]+1]==1 and rand<=proba: #Hoch\n",
    "                wald[x[i]][y[i]+1]=2\n",
    "            rand=np.random.randint(0,101)\n",
    "            if wald[x[i]][y[i]-1]==1 and rand<=proba: #Unter\n",
    "                wald[x[i]][y[i]-1]=2\n",
    "            wald[x[i]][y[i]]=0\n",
    "            zh_baum = len(np.where(wald==1)[0])\n",
    "            prop=zh_baum/zh_baum_inital\n",
    "            prop_abr_brul.append(prop)\n",
    "        else:\n",
    "            wald[x[i]][y[i]]=0\n",
    "            \n",
    "    if(len(np.where(wald==2)[0])==0):\n",
    "        #zh_baum = len(np.where(wald==3)[0])+len(np.where(wald==1)[0])\n",
    "        zh_baum = len(np.where(wald==1)[0])\n",
    "        print(\"Anzhl der Baum = \",zh_baum,\"\\n Anteil des verbrannten Baumes als Funktion der Zeit: \",prop_abr_brul)\n",
    "        #zh_baum_brenn = len(np.where(wald==3)[0])\n",
    "        #print(\"Total Anzhl der Baum : \",zh_baum,\"\\nZhle Baum brenn : \",zh_baum_brenn,\"\\n Proportion zh_baum_brule/zh_baum : \",(zh_baum_brenn/zh_baum)*100,\"%\")\n",
    "        return 0\n",
    "\n",
    "feuerausbreitung(data,0.2)"
   ]
  },
  {
   "cell_type": "code",
   "execution_count": 97,
   "id": "a8d2c6d4",
   "metadata": {},
   "outputs": [
    {
     "name": "stdout",
     "output_type": "stream",
     "text": [
      "len(wald[0]) =  30 \n",
      "\n",
      "len(wald[0]) =  30 \n",
      "\n",
      "len(wald[0]) =  30 \n",
      "\n",
      "len(wald[0]) =  30 \n",
      "\n",
      "len(wald[0]) =  30 \n",
      "\n",
      "len(wald[0]) =  30 \n",
      "\n",
      "len(wald[0]) =  30 \n",
      "\n",
      "len(wald[0]) =  30 \n",
      "\n",
      "len(wald[0]) =  30 \n",
      "\n",
      "len(wald[0]) =  30 \n",
      "\n",
      "len(wald[0]) =  30 \n",
      "\n",
      "len(wald[0]) =  30 \n",
      "\n",
      "len(wald[0]) =  30 \n",
      "\n",
      "len(wald[0]) =  30 \n",
      "\n"
     ]
    },
    {
     "ename": "KeyboardInterrupt",
     "evalue": "",
     "output_type": "error",
     "traceback": [
      "\u001b[0;31m---------------------------------------------------------------------------\u001b[0m",
      "\u001b[0;31mKeyboardInterrupt\u001b[0m                         Traceback (most recent call last)",
      "\u001b[1;32m/Users/oroth/L3_Info/erasmus/Cours/Angewandte Math/Projekt4/Prokjekt_4.ipynb Cellule 5\u001b[0m in \u001b[0;36m1\n\u001b[1;32m     <a href='vscode-notebook-cell:/Users/oroth/L3_Info/erasmus/Cours/Angewandte%20Math/Projekt4/Prokjekt_4.ipynb#W5sZmlsZQ%3D%3D?line=9'>10</a>\u001b[0m     \u001b[39m#print(\"Baumprozentsatz : \",p*100,\"%\")\u001b[39;00m\n\u001b[1;32m     <a href='vscode-notebook-cell:/Users/oroth/L3_Info/erasmus/Cours/Angewandte%20Math/Projekt4/Prokjekt_4.ipynb#W5sZmlsZQ%3D%3D?line=10'>11</a>\u001b[0m     \u001b[39mreturn\u001b[39;00m waldanzeige(x,y,wald)\n\u001b[0;32m---> <a href='vscode-notebook-cell:/Users/oroth/L3_Info/erasmus/Cours/Angewandte%20Math/Projekt4/Prokjekt_4.ipynb#W5sZmlsZQ%3D%3D?line=12'>13</a>\u001b[0m start(Integer(\u001b[39m20\u001b[39;49m),Integer(\u001b[39m30\u001b[39;49m),RealNumber(\u001b[39m'\u001b[39;49m\u001b[39m0.8\u001b[39;49m\u001b[39m'\u001b[39;49m))\n",
      "\u001b[1;32m/Users/oroth/L3_Info/erasmus/Cours/Angewandte Math/Projekt4/Prokjekt_4.ipynb Cellule 5\u001b[0m in \u001b[0;36m8\n\u001b[1;32m      <a href='vscode-notebook-cell:/Users/oroth/L3_Info/erasmus/Cours/Angewandte%20Math/Projekt4/Prokjekt_4.ipynb#W5sZmlsZQ%3D%3D?line=5'>6</a>\u001b[0m     init_feuerausbreitung(wald)\n\u001b[1;32m      <a href='vscode-notebook-cell:/Users/oroth/L3_Info/erasmus/Cours/Angewandte%20Math/Projekt4/Prokjekt_4.ipynb#W5sZmlsZQ%3D%3D?line=6'>7</a>\u001b[0m     waldanzeige(x,y,wald)\n\u001b[0;32m----> <a href='vscode-notebook-cell:/Users/oroth/L3_Info/erasmus/Cours/Angewandte%20Math/Projekt4/Prokjekt_4.ipynb#W5sZmlsZQ%3D%3D?line=7'>8</a>\u001b[0m     plt\u001b[39m.\u001b[39;49mpause(Integer(\u001b[39m2\u001b[39;49m))\n\u001b[1;32m      <a href='vscode-notebook-cell:/Users/oroth/L3_Info/erasmus/Cours/Angewandte%20Math/Projekt4/Prokjekt_4.ipynb#W5sZmlsZQ%3D%3D?line=8'>9</a>\u001b[0m     display\u001b[39m.\u001b[39mclear_output(wait\u001b[39m=\u001b[39m\u001b[39mTrue\u001b[39;00m)\n\u001b[1;32m     <a href='vscode-notebook-cell:/Users/oroth/L3_Info/erasmus/Cours/Angewandte%20Math/Projekt4/Prokjekt_4.ipynb#W5sZmlsZQ%3D%3D?line=9'>10</a>\u001b[0m \u001b[39m#print(\"Baumprozentsatz : \",p*100,\"%\")\u001b[39;00m\n",
      "File \u001b[0;32m/private/var/tmp/sage-9.8-current/local/var/lib/sage/venv-python3.11.1/lib/python3.11/site-packages/matplotlib/pyplot.py:556\u001b[0m, in \u001b[0;36mpause\u001b[0;34m(interval)\u001b[0m\n\u001b[1;32m    554\u001b[0m     \u001b[39mif\u001b[39;00m canvas\u001b[39m.\u001b[39mfigure\u001b[39m.\u001b[39mstale:\n\u001b[1;32m    555\u001b[0m         canvas\u001b[39m.\u001b[39mdraw_idle()\n\u001b[0;32m--> 556\u001b[0m     show(block\u001b[39m=\u001b[39;49m\u001b[39mFalse\u001b[39;49;00m)\n\u001b[1;32m    557\u001b[0m     canvas\u001b[39m.\u001b[39mstart_event_loop(interval)\n\u001b[1;32m    558\u001b[0m \u001b[39melse\u001b[39;00m:\n",
      "File \u001b[0;32m/private/var/tmp/sage-9.8-current/local/var/lib/sage/venv-python3.11.1/lib/python3.11/site-packages/matplotlib/pyplot.py:421\u001b[0m, in \u001b[0;36mshow\u001b[0;34m(*args, **kwargs)\u001b[0m\n\u001b[1;32m    377\u001b[0m \u001b[39m\"\"\"\u001b[39;00m\n\u001b[1;32m    378\u001b[0m \u001b[39mDisplay all open figures.\u001b[39;00m\n\u001b[1;32m    379\u001b[0m \n\u001b[0;32m   (...)\u001b[0m\n\u001b[1;32m    418\u001b[0m \u001b[39mexplicitly there.\u001b[39;00m\n\u001b[1;32m    419\u001b[0m \u001b[39m\"\"\"\u001b[39;00m\n\u001b[1;32m    420\u001b[0m _warn_if_gui_out_of_main_thread()\n\u001b[0;32m--> 421\u001b[0m \u001b[39mreturn\u001b[39;00m _get_backend_mod()\u001b[39m.\u001b[39;49mshow(\u001b[39m*\u001b[39;49margs, \u001b[39m*\u001b[39;49m\u001b[39m*\u001b[39;49mkwargs)\n",
      "File \u001b[0;32m/private/var/tmp/sage-9.8-current/local/var/lib/sage/venv-python3.11.1/lib/python3.11/site-packages/matplotlib_inline/backend_inline.py:90\u001b[0m, in \u001b[0;36mshow\u001b[0;34m(close, block)\u001b[0m\n\u001b[1;32m     88\u001b[0m \u001b[39mtry\u001b[39;00m:\n\u001b[1;32m     89\u001b[0m     \u001b[39mfor\u001b[39;00m figure_manager \u001b[39min\u001b[39;00m Gcf\u001b[39m.\u001b[39mget_all_fig_managers():\n\u001b[0;32m---> 90\u001b[0m         display(\n\u001b[1;32m     91\u001b[0m             figure_manager\u001b[39m.\u001b[39;49mcanvas\u001b[39m.\u001b[39;49mfigure,\n\u001b[1;32m     92\u001b[0m             metadata\u001b[39m=\u001b[39;49m_fetch_figure_metadata(figure_manager\u001b[39m.\u001b[39;49mcanvas\u001b[39m.\u001b[39;49mfigure)\n\u001b[1;32m     93\u001b[0m         )\n\u001b[1;32m     94\u001b[0m \u001b[39mfinally\u001b[39;00m:\n\u001b[1;32m     95\u001b[0m     show\u001b[39m.\u001b[39m_to_draw \u001b[39m=\u001b[39m []\n",
      "File \u001b[0;32m/private/var/tmp/sage-9.8-current/local/var/lib/sage/venv-python3.11.1/lib/python3.11/site-packages/IPython/core/display_functions.py:298\u001b[0m, in \u001b[0;36mdisplay\u001b[0;34m(include, exclude, metadata, transient, display_id, raw, clear, *objs, **kwargs)\u001b[0m\n\u001b[1;32m    296\u001b[0m     publish_display_data(data\u001b[39m=\u001b[39mobj, metadata\u001b[39m=\u001b[39mmetadata, \u001b[39m*\u001b[39m\u001b[39m*\u001b[39mkwargs)\n\u001b[1;32m    297\u001b[0m \u001b[39melse\u001b[39;00m:\n\u001b[0;32m--> 298\u001b[0m     format_dict, md_dict \u001b[39m=\u001b[39m \u001b[39mformat\u001b[39;49m(obj, include\u001b[39m=\u001b[39;49minclude, exclude\u001b[39m=\u001b[39;49mexclude)\n\u001b[1;32m    299\u001b[0m     \u001b[39mif\u001b[39;00m \u001b[39mnot\u001b[39;00m format_dict:\n\u001b[1;32m    300\u001b[0m         \u001b[39m# nothing to display (e.g. _ipython_display_ took over)\u001b[39;00m\n\u001b[1;32m    301\u001b[0m         \u001b[39mcontinue\u001b[39;00m\n",
      "File \u001b[0;32m/private/var/tmp/sage-9.8-current/local/var/lib/sage/venv-python3.11.1/lib/python3.11/site-packages/sage/repl/display/formatter.py:209\u001b[0m, in \u001b[0;36mSageDisplayFormatter.format\u001b[0;34m(self, obj, include, exclude)\u001b[0m\n\u001b[1;32m    207\u001b[0m \u001b[39melse\u001b[39;00m:\n\u001b[1;32m    208\u001b[0m     exclude \u001b[39m=\u001b[39m [PLAIN_TEXT]\n\u001b[0;32m--> 209\u001b[0m ipy_format, ipy_metadata \u001b[39m=\u001b[39m \u001b[39msuper\u001b[39;49m()\u001b[39m.\u001b[39;49mformat(obj, include\u001b[39m=\u001b[39;49minclude, exclude\u001b[39m=\u001b[39;49mexclude)\n\u001b[1;32m    210\u001b[0m \u001b[39mif\u001b[39;00m \u001b[39mnot\u001b[39;00m ipy_format:\n\u001b[1;32m    211\u001b[0m     \u001b[39mreturn\u001b[39;00m sage_format, sage_metadata\n",
      "File \u001b[0;32m/private/var/tmp/sage-9.8-current/local/var/lib/sage/venv-python3.11.1/lib/python3.11/site-packages/IPython/core/formatters.py:177\u001b[0m, in \u001b[0;36mDisplayFormatter.format\u001b[0;34m(self, obj, include, exclude)\u001b[0m\n\u001b[1;32m    175\u001b[0m md \u001b[39m=\u001b[39m \u001b[39mNone\u001b[39;00m\n\u001b[1;32m    176\u001b[0m \u001b[39mtry\u001b[39;00m:\n\u001b[0;32m--> 177\u001b[0m     data \u001b[39m=\u001b[39m formatter(obj)\n\u001b[1;32m    178\u001b[0m \u001b[39mexcept\u001b[39;00m:\n\u001b[1;32m    179\u001b[0m     \u001b[39m# FIXME: log the exception\u001b[39;00m\n\u001b[1;32m    180\u001b[0m     \u001b[39mraise\u001b[39;00m\n",
      "File \u001b[0;32m/private/var/tmp/sage-9.8-current/local/var/lib/sage/venv-python3.11.1/lib/python3.11/site-packages/decorator.py:232\u001b[0m, in \u001b[0;36mdecorate.<locals>.fun\u001b[0;34m(*args, **kw)\u001b[0m\n\u001b[1;32m    230\u001b[0m \u001b[39mif\u001b[39;00m \u001b[39mnot\u001b[39;00m kwsyntax:\n\u001b[1;32m    231\u001b[0m     args, kw \u001b[39m=\u001b[39m fix(args, kw, sig)\n\u001b[0;32m--> 232\u001b[0m \u001b[39mreturn\u001b[39;00m caller(func, \u001b[39m*\u001b[39;49m(extras \u001b[39m+\u001b[39;49m args), \u001b[39m*\u001b[39;49m\u001b[39m*\u001b[39;49mkw)\n",
      "File \u001b[0;32m/private/var/tmp/sage-9.8-current/local/var/lib/sage/venv-python3.11.1/lib/python3.11/site-packages/IPython/core/formatters.py:221\u001b[0m, in \u001b[0;36mcatch_format_error\u001b[0;34m(method, self, *args, **kwargs)\u001b[0m\n\u001b[1;32m    219\u001b[0m \u001b[39m\"\"\"show traceback on failed format call\"\"\"\u001b[39;00m\n\u001b[1;32m    220\u001b[0m \u001b[39mtry\u001b[39;00m:\n\u001b[0;32m--> 221\u001b[0m     r \u001b[39m=\u001b[39m method(\u001b[39mself\u001b[39;49m, \u001b[39m*\u001b[39;49margs, \u001b[39m*\u001b[39;49m\u001b[39m*\u001b[39;49mkwargs)\n\u001b[1;32m    222\u001b[0m \u001b[39mexcept\u001b[39;00m \u001b[39mNotImplementedError\u001b[39;00m:\n\u001b[1;32m    223\u001b[0m     \u001b[39m# don't warn on NotImplementedErrors\u001b[39;00m\n\u001b[1;32m    224\u001b[0m     \u001b[39mreturn\u001b[39;00m \u001b[39mself\u001b[39m\u001b[39m.\u001b[39m_check_return(\u001b[39mNone\u001b[39;00m, args[\u001b[39m0\u001b[39m])\n",
      "File \u001b[0;32m/private/var/tmp/sage-9.8-current/local/var/lib/sage/venv-python3.11.1/lib/python3.11/site-packages/IPython/core/formatters.py:338\u001b[0m, in \u001b[0;36mBaseFormatter.__call__\u001b[0;34m(self, obj)\u001b[0m\n\u001b[1;32m    336\u001b[0m     \u001b[39mpass\u001b[39;00m\n\u001b[1;32m    337\u001b[0m \u001b[39melse\u001b[39;00m:\n\u001b[0;32m--> 338\u001b[0m     \u001b[39mreturn\u001b[39;00m printer(obj)\n\u001b[1;32m    339\u001b[0m \u001b[39m# Finally look for special method names\u001b[39;00m\n\u001b[1;32m    340\u001b[0m method \u001b[39m=\u001b[39m get_real_method(obj, \u001b[39mself\u001b[39m\u001b[39m.\u001b[39mprint_method)\n",
      "File \u001b[0;32m/private/var/tmp/sage-9.8-current/local/var/lib/sage/venv-python3.11.1/lib/python3.11/site-packages/IPython/core/pylabtools.py:152\u001b[0m, in \u001b[0;36mprint_figure\u001b[0;34m(fig, fmt, bbox_inches, base64, **kwargs)\u001b[0m\n\u001b[1;32m    149\u001b[0m     \u001b[39mfrom\u001b[39;00m \u001b[39mmatplotlib\u001b[39;00m\u001b[39m.\u001b[39;00m\u001b[39mbackend_bases\u001b[39;00m \u001b[39mimport\u001b[39;00m FigureCanvasBase\n\u001b[1;32m    150\u001b[0m     FigureCanvasBase(fig)\n\u001b[0;32m--> 152\u001b[0m fig\u001b[39m.\u001b[39;49mcanvas\u001b[39m.\u001b[39;49mprint_figure(bytes_io, \u001b[39m*\u001b[39;49m\u001b[39m*\u001b[39;49mkw)\n\u001b[1;32m    153\u001b[0m data \u001b[39m=\u001b[39m bytes_io\u001b[39m.\u001b[39mgetvalue()\n\u001b[1;32m    154\u001b[0m \u001b[39mif\u001b[39;00m fmt \u001b[39m==\u001b[39m \u001b[39m'\u001b[39m\u001b[39msvg\u001b[39m\u001b[39m'\u001b[39m:\n",
      "File \u001b[0;32m/private/var/tmp/sage-9.8-current/local/var/lib/sage/venv-python3.11.1/lib/python3.11/site-packages/matplotlib/backend_bases.py:2318\u001b[0m, in \u001b[0;36mFigureCanvasBase.print_figure\u001b[0;34m(self, filename, dpi, facecolor, edgecolor, orientation, format, bbox_inches, pad_inches, bbox_extra_artists, backend, **kwargs)\u001b[0m\n\u001b[1;32m   2316\u001b[0m \u001b[39mif\u001b[39;00m bbox_inches:\n\u001b[1;32m   2317\u001b[0m     \u001b[39mif\u001b[39;00m bbox_inches \u001b[39m==\u001b[39m \u001b[39m\"\u001b[39m\u001b[39mtight\u001b[39m\u001b[39m\"\u001b[39m:\n\u001b[0;32m-> 2318\u001b[0m         bbox_inches \u001b[39m=\u001b[39m \u001b[39mself\u001b[39;49m\u001b[39m.\u001b[39;49mfigure\u001b[39m.\u001b[39;49mget_tightbbox(\n\u001b[1;32m   2319\u001b[0m             renderer, bbox_extra_artists\u001b[39m=\u001b[39;49mbbox_extra_artists)\n\u001b[1;32m   2320\u001b[0m         \u001b[39mif\u001b[39;00m pad_inches \u001b[39mis\u001b[39;00m \u001b[39mNone\u001b[39;00m:\n\u001b[1;32m   2321\u001b[0m             pad_inches \u001b[39m=\u001b[39m rcParams[\u001b[39m'\u001b[39m\u001b[39msavefig.pad_inches\u001b[39m\u001b[39m'\u001b[39m]\n",
      "File \u001b[0;32m/private/var/tmp/sage-9.8-current/local/var/lib/sage/venv-python3.11.1/lib/python3.11/site-packages/matplotlib/figure.py:1734\u001b[0m, in \u001b[0;36mFigureBase.get_tightbbox\u001b[0;34m(self, renderer, bbox_extra_artists)\u001b[0m\n\u001b[1;32m   1731\u001b[0m     artists \u001b[39m=\u001b[39m bbox_extra_artists\n\u001b[1;32m   1733\u001b[0m \u001b[39mfor\u001b[39;00m a \u001b[39min\u001b[39;00m artists:\n\u001b[0;32m-> 1734\u001b[0m     bbox \u001b[39m=\u001b[39m a\u001b[39m.\u001b[39;49mget_tightbbox(renderer)\n\u001b[1;32m   1735\u001b[0m     \u001b[39mif\u001b[39;00m bbox \u001b[39mis\u001b[39;00m \u001b[39mnot\u001b[39;00m \u001b[39mNone\u001b[39;00m:\n\u001b[1;32m   1736\u001b[0m         bb\u001b[39m.\u001b[39mappend(bbox)\n",
      "File \u001b[0;32m/private/var/tmp/sage-9.8-current/local/var/lib/sage/venv-python3.11.1/lib/python3.11/site-packages/matplotlib/artist.py:337\u001b[0m, in \u001b[0;36mArtist.get_tightbbox\u001b[0;34m(self, renderer)\u001b[0m\n\u001b[1;32m    322\u001b[0m \u001b[39mdef\u001b[39;00m \u001b[39mget_tightbbox\u001b[39m(\u001b[39mself\u001b[39m, renderer\u001b[39m=\u001b[39m\u001b[39mNone\u001b[39;00m):\n\u001b[1;32m    323\u001b[0m     \u001b[39m\"\"\"\u001b[39;00m\n\u001b[1;32m    324\u001b[0m \u001b[39m    Like `.Artist.get_window_extent`, but includes any clipping.\u001b[39;00m\n\u001b[1;32m    325\u001b[0m \n\u001b[0;32m   (...)\u001b[0m\n\u001b[1;32m    335\u001b[0m \u001b[39m        The enclosing bounding box (in figure pixel coordinates).\u001b[39;00m\n\u001b[1;32m    336\u001b[0m \u001b[39m    \"\"\"\u001b[39;00m\n\u001b[0;32m--> 337\u001b[0m     bbox \u001b[39m=\u001b[39m \u001b[39mself\u001b[39;49m\u001b[39m.\u001b[39;49mget_window_extent(renderer)\n\u001b[1;32m    338\u001b[0m     \u001b[39mif\u001b[39;00m \u001b[39mself\u001b[39m\u001b[39m.\u001b[39mget_clip_on():\n\u001b[1;32m    339\u001b[0m         clip_box \u001b[39m=\u001b[39m \u001b[39mself\u001b[39m\u001b[39m.\u001b[39mget_clip_box()\n",
      "File \u001b[0;32m/private/var/tmp/sage-9.8-current/local/var/lib/sage/venv-python3.11.1/lib/python3.11/site-packages/matplotlib/spines.py:196\u001b[0m, in \u001b[0;36mSpine.get_window_extent\u001b[0;34m(self, renderer)\u001b[0m\n\u001b[1;32m    193\u001b[0m             bb0\u001b[39m.\u001b[39my0 \u001b[39m=\u001b[39m bb0\u001b[39m.\u001b[39my0 \u001b[39m-\u001b[39m padout\n\u001b[1;32m    194\u001b[0m     bboxes\u001b[39m.\u001b[39mappend(bb0)\n\u001b[0;32m--> 196\u001b[0m \u001b[39mreturn\u001b[39;00m mtransforms\u001b[39m.\u001b[39;49mBbox\u001b[39m.\u001b[39;49munion(bboxes)\n",
      "File \u001b[0;32m/private/var/tmp/sage-9.8-current/local/var/lib/sage/venv-python3.11.1/lib/python3.11/site-packages/matplotlib/transforms.py:658\u001b[0m, in \u001b[0;36mBboxBase.union\u001b[0;34m(bboxes)\u001b[0m\n\u001b[1;32m    656\u001b[0m y0 \u001b[39m=\u001b[39m np\u001b[39m.\u001b[39mmin([bbox\u001b[39m.\u001b[39mymin \u001b[39mfor\u001b[39;00m bbox \u001b[39min\u001b[39;00m bboxes])\n\u001b[1;32m    657\u001b[0m y1 \u001b[39m=\u001b[39m np\u001b[39m.\u001b[39mmax([bbox\u001b[39m.\u001b[39mymax \u001b[39mfor\u001b[39;00m bbox \u001b[39min\u001b[39;00m bboxes])\n\u001b[0;32m--> 658\u001b[0m \u001b[39mreturn\u001b[39;00m Bbox([[x0, y0], [x1, y1]])\n",
      "File \u001b[0;32m/private/var/tmp/sage-9.8-current/local/var/lib/sage/venv-python3.11.1/lib/python3.11/site-packages/matplotlib/transforms.py:767\u001b[0m, in \u001b[0;36mBbox.__init__\u001b[0;34m(self, points, **kwargs)\u001b[0m\n\u001b[1;32m    764\u001b[0m     \u001b[39mraise\u001b[39;00m \u001b[39mValueError\u001b[39;00m(\u001b[39m'\u001b[39m\u001b[39mBbox points must be of the form \u001b[39m\u001b[39m'\u001b[39m\n\u001b[1;32m    765\u001b[0m                      \u001b[39m'\u001b[39m\u001b[39m\"\u001b[39m\u001b[39m[[x0, y0], [x1, y1]]\u001b[39m\u001b[39m\"\u001b[39m\u001b[39m.\u001b[39m\u001b[39m'\u001b[39m)\n\u001b[1;32m    766\u001b[0m \u001b[39mself\u001b[39m\u001b[39m.\u001b[39m_points \u001b[39m=\u001b[39m points\n\u001b[0;32m--> 767\u001b[0m \u001b[39mself\u001b[39m\u001b[39m.\u001b[39m_minpos \u001b[39m=\u001b[39m np\u001b[39m.\u001b[39marray([np\u001b[39m.\u001b[39minf, np\u001b[39m.\u001b[39minf])\n\u001b[1;32m    768\u001b[0m \u001b[39mself\u001b[39m\u001b[39m.\u001b[39m_ignore \u001b[39m=\u001b[39m \u001b[39mTrue\u001b[39;00m\n\u001b[1;32m    769\u001b[0m \u001b[39m# it is helpful in some contexts to know if the bbox is a\u001b[39;00m\n\u001b[1;32m    770\u001b[0m \u001b[39m# default or has been mutated; we store the orig points to\u001b[39;00m\n\u001b[1;32m    771\u001b[0m \u001b[39m# support the mutated methods\u001b[39;00m\n",
      "File \u001b[0;32msrc/cysignals/signals.pyx:310\u001b[0m, in \u001b[0;36mcysignals.signals.python_check_interrupt\u001b[0;34m()\u001b[0m\n",
      "\u001b[0;31mKeyboardInterrupt\u001b[0m: "
     ]
    }
   ],
   "source": [
    "def start(x,y,p):\n",
    "    wald = create_database(x,y,p)\n",
    "    print(\"Baumprozentsatz : \",p*100,\"%\")\n",
    "    while feuerausbreitung(wald,proba=0.8)!=0:\n",
    "        \n",
    "        init_feuerausbreitung(wald)\n",
    "        waldanzeige(x,y,wald)\n",
    "        plt.pause(2)\n",
    "        display.clear_output(wait=True)\n",
    "    #print(\"Baumprozentsatz : \",p*100,\"%\")\n",
    "    return waldanzeige(x,y,wald)\n",
    "\n",
    "start(20,30,0.8)"
   ]
  },
  {
   "cell_type": "code",
   "execution_count": 108,
   "id": "73c1990d",
   "metadata": {},
   "outputs": [],
   "source": [
    "def feuerausbreitung2(wald,proba): #wald ist die Fläche und proba ist die Warhscheinlikeit, dass ein Baum, der neben ein Feuer steht in der nächste Zeitschritten brennt\n",
    "    proba=proba*100\n",
    "    prop_abr_brul=[]\n",
    "    if(len(np.where(wald==2)[0])==0):\n",
    "        init_feuerausbreitung(wald)\n",
    "    x,y = np.where(wald==2)\n",
    "    zh_baum_inital = len(np.where(wald==1)[0])\n",
    "    for i in range(len(x)):\n",
    "        if (x[i]<len(wald)-1) and (y[i]<len(wald[0])-1) and (x[i]>0) and (y[i] > 0): #interieur\n",
    "            #print(\"x=\",x[i],\"   y=\",y[i],\"\\n\")\n",
    "            rand=np.random.randint(0,101)\n",
    "            if wald[x[i]+1][y[i]]==1 and rand<=proba: #Recht\n",
    "                wald[x[i]+1][y[i]]=2 \n",
    "            rand=np.random.randint(0,101)\n",
    "            if wald[x[i]-1][y[i]]==1 and rand<=proba: #Links\n",
    "                wald[x[i]-1][y[i]]=2\n",
    "            rand=np.random.randint(0,101)\n",
    "            if wald[x[i]][y[i]+1]==1 and rand<=proba: #Hoch\n",
    "                wald[x[i]][y[i]+1]=2\n",
    "            rand=np.random.randint(0,101)\n",
    "            if wald[x[i]][y[i]-1]==1 and rand<=proba: #Unter\n",
    "                wald[x[i]][y[i]-1]=2\n",
    "            wald[x[i]][y[i]]=0\n",
    "\n",
    "        if (x[i]==len(wald)-1) and (y[i]<len(wald[0])-1) and (x[i]>0) and (y[i] > 0): #droite\n",
    "            #print(\"x=\",x[i],\"   y=\",y[i],\"\\n\")\n",
    "            rand=np.random.randint(0,101)\n",
    "            if wald[0][y[i]]==1 and rand<=proba: #Recht\n",
    "                wald[0][y[i]]=2 \n",
    "            rand=np.random.randint(0,101)\n",
    "            if wald[x[i]-1][y[i]]==1 and rand<=proba: #Links\n",
    "                wald[x[i]-1][y[i]]=2\n",
    "            rand=np.random.randint(0,101)\n",
    "            if wald[x[i]][y[i]+1]==1 and rand<=proba: #Hoch\n",
    "                wald[x[i]][y[i]+1]=2\n",
    "            rand=np.random.randint(0,101)\n",
    "            if wald[x[i]][y[i]-1]==1 and rand<=proba: #Unter\n",
    "                wald[x[i]][y[i]-1]=2\n",
    "            wald[x[i]][y[i]]=0\n",
    "\n",
    "        if (x[i]<len(wald)-1) and (y[i]==len(wald[0]-1)) and (x[i]>0) and (y[i] > 0): #haut\n",
    "            #print(\"x=\",x[i],\"   y=\",y[i],\"\\n\")\n",
    "            rand=np.random.randint(0,101)\n",
    "            if wald[x[i]+1][y[i]]==1 and rand<=proba: #Recht\n",
    "                wald[x[i]+1][y[i]]=2 \n",
    "            rand=np.random.randint(0,101)\n",
    "            if wald[x[i]-1][y[i]]==1 and rand<=proba: #Links\n",
    "                wald[x[i]-1][y[i]]=2\n",
    "            rand=np.random.randint(0,101)\n",
    "            if wald[x[i]][0]==1 and rand<=proba: #Hoch\n",
    "                wald[x[i]][0]=2\n",
    "            rand=np.random.randint(0,101)\n",
    "            if wald[x[i]][y[i]-1]==1 and rand<=proba: #Unter\n",
    "                wald[x[i]][y[i]-1]=2\n",
    "            wald[x[i]][y[i]]=0\n",
    "\n",
    "        if (x[i]<len(wald)-1) and (y[i]<len(wald[0])-1) and (x[i]==0) and (y[i] > 0): #gauche\n",
    "            #print(\"x=\",x[i],\"   y=\",y[i],\"\\n\")\n",
    "            rand=np.random.randint(0,101)\n",
    "            if wald[x[i]+1][y[i]]==1 and rand<=proba: #Recht\n",
    "                wald[x[i]+1][y[i]]=2 \n",
    "            rand=np.random.randint(0,101)\n",
    "            if wald[len(wald)-1][y[i]]==1 and rand<=proba: #Links\n",
    "                wald[len(wald)-1][y[i]]=2\n",
    "            rand=np.random.randint(0,101)\n",
    "            if wald[x[i]][y[i]+1]==1 and rand<=proba: #Hoch\n",
    "                wald[x[i]][y[i]+1]=2\n",
    "            rand=np.random.randint(0,101)\n",
    "            if wald[x[i]][y[i]-1]==1 and rand<=proba: #Unter\n",
    "                wald[x[i]][y[i]-1]=2\n",
    "            wald[x[i]][y[i]]=0\n",
    "\n",
    "        if (x[i]<len(wald)-1) and (y[i]<len(wald[0])-1) and (x[i]>0) and (y[i] == 0): #bas\n",
    "            #print(\"x=\",x[i],\"   y=\",y[i],\"\\n\")\n",
    "            rand=np.random.randint(0,101)\n",
    "            if wald[x[i]+1][y[i]]==1 and rand<=proba: #Recht\n",
    "                wald[x[i]+1][y[i]]=2 \n",
    "            rand=np.random.randint(0,101)\n",
    "            if wald[x[i]-1][y[i]]==1 and rand<=proba: #Links\n",
    "                wald[x[i]-1][y[i]]=2\n",
    "            rand=np.random.randint(0,101)\n",
    "            if wald[x[i]][y[i]+1]==1 and rand<=proba: #Hoch\n",
    "                wald[x[i]][y[i]+1]=2\n",
    "            rand=np.random.randint(0,101)\n",
    "            if wald[x[i]][len(wald[0])-1]==1 and rand<=proba: #Unter\n",
    "                wald[x[i]][len(wald[0])-1]=2\n",
    "            wald[x[i]][y[i]]=0\n",
    "\n",
    "            zh_baum = len(np.where(wald==1)[0])\n",
    "            prop=zh_baum/zh_baum_inital\n",
    "            prop_abr_brul.append(prop)\n",
    "        else:\n",
    "            wald[x[i]][y[i]]=0\n",
    "            \n",
    "    if(len(np.where(wald==2)[0])==0):\n",
    "        #zh_baum = len(np.where(wald==3)[0])+len(np.where(wald==1)[0])\n",
    "        zh_baum = len(np.where(wald==1)[0])\n",
    "        print(\"Anzhl der Baum = \",zh_baum,\"\\n Anteil des verbrannten Baumes als Funktion der Zeit: \",prop_abr_brul)\n",
    "        #zh_baum_brenn = len(np.where(wald==3)[0])\n",
    "        #print(\"Total Anzhl der Baum : \",zh_baum,\"\\nZhle Baum brenn : \",zh_baum_brenn,\"\\n Proportion zh_baum_brule/zh_baum : \",(zh_baum_brenn/zh_baum)*100,\"%\")\n",
    "        return 0"
   ]
  },
  {
   "cell_type": "code",
   "execution_count": 111,
   "id": "98deceec",
   "metadata": {},
   "outputs": [
    {
     "name": "stdout",
     "output_type": "stream",
     "text": [
      "Anzhl der Baum =  60 \n",
      " Anteil des verbrannten Baumes als Funktion der Zeit:  []\n"
     ]
    },
    {
     "data": {
      "text/plain": [
       "0"
      ]
     },
     "execution_count": 111,
     "metadata": {},
     "output_type": "execute_result"
    },
    {
     "data": {
      "image/png": "[encoded data removed]",
      "text/plain": [
       "<Figure size 640x480 with 1 Axes>"
      ]
     },
     "metadata": {},
     "output_type": "display_data"
    }
   ],
   "source": [
    "def start2(x,y,p):\n",
    "    wald = create_database(x,y,p)\n",
    "    print(\"lx=\",len(wald),\"ly=\",len(wald[0]))\n",
    "    print(\"Baumprozentsatz : \",p*100,\"%\")\n",
    "    while feuerausbreitung2(wald,proba=0.8)!=0:\n",
    "        #print(\"l0=\",x[0],\"lx=\",len(wald),\"ly=\",len(wald[0]),\"l0=\",y[0])\n",
    "        init_feuerausbreitung(wald)\n",
    "        waldanzeige(x,y,wald)\n",
    "        plt.pause(0.5)\n",
    "        display.clear_output(wait=True)\n",
    "    #print(\"Baumprozentsatz : \",p*100,\"%\")\n",
    "    #init_feuerausbreitung(wald)\n",
    "    #waldanzeige(x,y,wald)\n",
    "    #wald[0][14]=2\n",
    "    \n",
    "    \n",
    "    return waldanzeige(x,y,wald)\n",
    "\n",
    "start2(30,30,0.7)\n",
    "\n"
   ]
  },
  {
   "cell_type": "code",
   "execution_count": null,
   "id": "1f244231",
   "metadata": {},
   "outputs": [],
   "source": [
    "\n"
   ]
  },
  {
   "cell_type": "code",
   "execution_count": null,
   "id": "6bc560bb",
   "metadata": {},
   "outputs": [],
   "source": [
    "def draw(screen,data):\n",
    "    x=0\n",
    "    y=0\n",
    "    unit=500/len(data)\n",
    "    for i in range(len(data)):\n",
    "        for j in range(len(data[0])):\n",
    "            if(data[i][j]==1):\n",
    "                pygame.draw.rect(screen,(71, 252, 80), pygame.Rect(x, y, x+unit, y+unit))\n",
    "                x+=unit\n",
    "            if(data[i][j]==0):\n",
    "                pygame.draw.rect(screen,(247, 213, 143), pygame.Rect(x, y, x+unit, y+unit))\n",
    "                x+=unit  \n",
    "            if(data[i][j]==2):\n",
    "                pygame.draw.rect(screen,(255, 64, 67), pygame.Rect(x, y, x+unit, y+unit))\n",
    "                x+=unit\n",
    "            if(data[i][j]==3):\n",
    "                pygame.draw.rect(screen,(33, 13, 4), pygame.Rect(x, y, x+unit, y+unit))\n",
    "                x+=unit\n",
    "        y+=unit\n",
    "        x=0\n",
    "\n",
    "    pygame.display.flip()\n"
   ]
  },
  {
   "cell_type": "code",
   "execution_count": null,
   "id": "48e8ddbe",
   "metadata": {},
   "outputs": [],
   "source": [
    "pygame.init()\n",
    "\n",
    "screen = pygame.display.set_mode((500, 500))\n",
    "screen.fill(\"white\")\n",
    "pygame.display.set_caption(\"Propagation d'un feu de forêt\")\n",
    "\n",
    "data = create_database(50,50,0.8)\n",
    "proba=np.random.choice(np.array([0.2,0.5,0.8]))\n",
    "\n",
    "while feuerausbreitung(data, proba)!=0:\n",
    "    for event in pygame.event.get():\n",
    "        if event.type == pygame.QUIT:\n",
    "           pygame.quit()\n",
    "    init_feuerausbreitung(data)\n",
    "    draw(screen,data)\n",
    "    plt.pause(0.1)\n",
    "    display.clear_output(wait=True)\n",
    "\n",
    "pygame.quit()\n"
   ]
  }
 ],
 "metadata": {
  "kernelspec": {
   "display_name": "SageMath 9.8",
   "language": "sage",
   "name": "SageMath-9.8"
  },
  "language_info": {
   "codemirror_mode": {
    "name": "ipython",
    "version": 3
   },
   "file_extension": ".py",
   "mimetype": "text/x-python",
   "name": "python",
   "nbconvert_exporter": "python",
   "pygments_lexer": "ipython3",
   "version": "3.11.1"
  }
 },
 "nbformat": 4,
 "nbformat_minor": 5
}
