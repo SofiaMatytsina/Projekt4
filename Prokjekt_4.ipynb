{
 "cells": [
  {
   "cell_type": "code",
   "execution_count": 3,
   "id": "6d38673c",
   "metadata": {},
   "outputs": [
    {
     "data": {
      "text/plain": [
       "array([[0, 1, 1, 1, 1],\n",
       "       [1, 1, 1, 1, 1],\n",
       "       [1, 0, 0, 1, 0],\n",
       "       [0, 1, 1, 1, 1],\n",
       "       [1, 0, 1, 1, 1]])"
      ]
     },
     "execution_count": 3,
     "metadata": {},
     "output_type": "execute_result"
    }
   ],
   "source": [
    "import matplotlib.pyplot as plt\n",
    "import numpy as np\n",
    "import time\n",
    "from IPython import display\n",
    "#import pygame\n",
    "\n",
    "def create_database(x,y,p):   #x ist die Höhe der Fläche, y die Länge und p die Wahrscheinlichkeit, dass eine Zelle ein Baum ist \n",
    "    return np.random.choice([0,1],size=(x,y),p=[1-p,p])\n",
    "\n",
    "data = create_database(5,5,0.8)\n",
    "data\n",
    "\n"
   ]
  },
  {
   "cell_type": "code",
   "execution_count": 4,
   "id": "efa10866",
   "metadata": {},
   "outputs": [
    {
     "data": {
      "text/plain": [
       "array([[0, 1, 1, 1, 1],\n",
       "       [1, 1, 1, 1, 1],\n",
       "       [1, 0, 0, 1, 0],\n",
       "       [0, 1, 1, 1, 1],\n",
       "       [1, 0, 1, 1, 1]])"
      ]
     },
     "execution_count": 4,
     "metadata": {},
     "output_type": "execute_result"
    },
    {
     "data": {
      "image/png": "[encoded data removed]",
      "text/plain": [
       "<Figure size 640x480 with 1 Axes>"
      ]
     },
     "metadata": {},
     "output_type": "display_data"
    }
   ],
   "source": [
    "\n",
    "\n",
    "def waldanzeige(x,y,wald):\n",
    "    x1,y1 = np.where(wald==1)# Baum x \n",
    "    x2,y2 = np.where(wald==0) # Leer x\n",
    "    x3,y3 = np.where(wald==2) # Feuer x  \n",
    "    plt.title(\"Brandausbreitung in einem Wald\",fontweight=\"bold\",fontname=\"Arial\",fontsize=\"15\")\n",
    "    plt.scatter(x1,y1,c='green',marker='.',s=30) # Baum\n",
    "    plt.scatter(x2,y2,c='grey',marker='.',s=30)#Leer\n",
    "    plt.scatter(x3,y3,c='red',marker='.',s=30)#Feuer\n",
    "    return 0\n",
    "\n",
    "#data[5][5]=1\n",
    "\n",
    "waldanzeige(100,100,data)\n",
    "\n",
    "data\n",
    "\n",
    "\n"
   ]
  },
  {
   "cell_type": "code",
   "execution_count": 5,
   "id": "ffa9afe3",
   "metadata": {},
   "outputs": [
    {
     "data": {
      "text/plain": [
       "array([[0, 1, 1, 1, 1],\n",
       "       [1, 1, 1, 2, 1],\n",
       "       [1, 0, 0, 1, 0],\n",
       "       [0, 1, 1, 1, 1],\n",
       "       [1, 0, 1, 1, 1]])"
      ]
     },
     "execution_count": 5,
     "metadata": {},
     "output_type": "execute_result"
    }
   ],
   "source": [
    "def init_feuerausbreitung(wald): \n",
    "    if(len(np.unique(wald))==2):\n",
    "        x,y=np.where(wald==1)\n",
    "        random_i = np.random.randint(0,len(x),1)\n",
    "        i_x = int(x[random_i])\n",
    "        i_y = int(y[random_i])\n",
    "        wald[i_x][i_y]=2\n",
    "    elif(np.unique(wald)==[1]).any():\n",
    "        x,y=np.where(wald==1)\n",
    "        random_i = np.random.randint(0,len(x),1)\n",
    "        i_x = int(x[random_i])\n",
    "        i_y = int(y[random_i])\n",
    "        wald[i_x][i_y]=2        \n",
    "    return wald\n",
    "\n",
    "init_feuerausbreitung(data)\n",
    "\n"
   ]
  },
  {
   "cell_type": "code",
   "execution_count": 6,
   "id": "e4d10f26",
   "metadata": {},
   "outputs": [],
   "source": [
    "def feuerausbreitung(wald,proba): #wald ist die Fläche und proba ist die Warhscheinlikeit, dass ein Baum, der neben ein Feuer steht in der nächste Zeitschritten brennt\n",
    "    proba=proba*100\n",
    "    prop_abr_brul=[]\n",
    "    if(len(np.where(wald==2)[0])==0):\n",
    "        init_feuerausbreitung(wald)\n",
    "    x,y = np.where(wald==2)\n",
    "    zh_baum_inital = len(np.where(wald==1)[0])\n",
    "    for i in range(len(x)):\n",
    "        if (x[i]<len(wald)-1) and (y[i]<len(wald[0])-1) and (x[i]>0) and (y[i] > 0):\n",
    "            rand=np.random.randint(0,101)\n",
    "            if wald[x[i]+1][y[i]]==1 and rand<=proba: #Rechr\n",
    "                wald[x[i]+1][y[i]]=2 \n",
    "            rand=np.random.randint(0,101)\n",
    "            if wald[x[i]-1][y[i]]==1 and rand<=proba: #Links\n",
    "                wald[x[i]-1][y[i]]=2\n",
    "            rand=np.random.randint(0,101)\n",
    "            if wald[x[i]][y[i]+1]==1 and rand<=proba: #Hoch\n",
    "                wald[x[i]][y[i]+1]=2\n",
    "            rand=np.random.randint(0,101)\n",
    "            if wald[x[i]][y[i]-1]==1 and rand<=proba: #Unter\n",
    "                wald[x[i]][y[i]-1]=2\n",
    "            wald[x[i]][y[i]]=0\n",
    "            zh_baum = len(np.where(wald==1)[0])\n",
    "            prop=zh_baum/zh_baum_inital\n",
    "            prop_abr_brul.append(prop)\n",
    "        else:\n",
    "            wald[x[i]][y[i]]=0\n",
    "            \n",
    "    if(len(np.where(wald==2)[0])==0):\n",
    "        #zh_baum = len(np.where(wald==3)[0])+len(np.where(wald==1)[0])\n",
    "        zh_baum = len(np.where(wald==1)[0])\n",
    "        print(\"Anzhl der Baum = \",zh_baum,\"\\n Anteil des verbrannten Baumes als Funktion der Zeit: \",prop_abr_brul)\n",
    "        #zh_baum_brenn = len(np.where(wald==3)[0])\n",
    "        #print(\"Total Anzhl der Baum : \",zh_baum,\"\\nZhle Baum brenn : \",zh_baum_brenn,\"\\n Proportion zh_baum_brule/zh_baum : \",(zh_baum_brenn/zh_baum)*100,\"%\")\n",
    "        return 0\n",
    "\n",
    "feuerausbreitung(data,0.2)"
   ]
  },
  {
   "cell_type": "code",
   "execution_count": 7,
   "id": "a8d2c6d4",
   "metadata": {},
   "outputs": [
    {
     "name": "stdout",
     "output_type": "stream",
     "text": [
      "Anzhl der Baum =  127 \n",
      " Anteil des verbrannten Baumes als Funktion der Zeit:  [1.0]\n",
      "Baumprozentsatz :  80.0000000000000 %\n"
     ]
    },
    {
     "data": {
      "text/plain": [
       "0"
      ]
     },
     "execution_count": 7,
     "metadata": {},
     "output_type": "execute_result"
    },
    {
     "data": {
      "image/png": "[encoded data removed]",
      "text/plain": [
       "<Figure size 640x480 with 1 Axes>"
      ]
     },
     "metadata": {},
     "output_type": "display_data"
    }
   ],
   "source": [
    "def start(x,y,p):\n",
    "    wald = create_database(x,y,p)\n",
    "    print(\"Baumprozentsatz : \",p*100,\"%\")\n",
    "    while feuerausbreitung(wald,proba=0.8)!=0:\n",
    "        \n",
    "        init_feuerausbreitung(wald)\n",
    "        waldanzeige(x,y,wald)\n",
    "        plt.pause(0.01)\n",
    "        display.clear_output(wait=True)\n",
    "    print(\"Baumprozentsatz : \",p*100,\"%\")\n",
    "    return waldanzeige(x,y,wald)\n",
    "\n",
    "start(50,50,0.8)"
   ]
  },
  {
   "cell_type": "code",
   "execution_count": 6,
   "id": "73c1990d",
   "metadata": {},
   "outputs": [],
   "source": [
    "def draw(screen,data):\n",
    "    x=0\n",
    "    y=0\n",
    "    unit=500/len(data)\n",
    "    for i in range(len(data)):\n",
    "        for j in range(len(data[0])):\n",
    "            if(data[i][j]==1):\n",
    "                pygame.draw.rect(screen,(71, 252, 80), pygame.Rect(x, y, x+unit, y+unit))\n",
    "                x+=unit\n",
    "            if(data[i][j]==0):\n",
    "                pygame.draw.rect(screen,(247, 213, 143), pygame.Rect(x, y, x+unit, y+unit))\n",
    "                x+=unit  \n",
    "            if(data[i][j]==2):\n",
    "                pygame.draw.rect(screen,(255, 64, 67), pygame.Rect(x, y, x+unit, y+unit))\n",
    "                x+=unit\n",
    "            if(data[i][j]==3):\n",
    "                pygame.draw.rect(screen,(33, 13, 4), pygame.Rect(x, y, x+unit, y+unit))\n",
    "                x+=unit\n",
    "        y+=unit\n",
    "        x=0\n",
    "\n",
    "    pygame.display.flip()"
   ]
  },
  {
   "cell_type": "code",
   "execution_count": 7,
   "id": "98deceec",
   "metadata": {},
   "outputs": [
    {
     "name": "stdout",
     "output_type": "stream",
     "text": [
      "Le nombre d'arbre =  174 \n",
      " proportiotion arbre bruler en foction du temps :  []\n"
     ]
    },
    {
     "ename": "",
     "evalue": "",
     "output_type": "error",
     "traceback": [
      "\u001b[1;31mLe Kernel s’est bloqué lors de l’exécution du code dans la cellule active ou une cellule précédente. Veuillez vérifier le code dans la ou les cellules pour identifier une cause possible de l’échec. Cliquez <a href='https://aka.ms/vscodeJupyterKernelCrash'>ici</a> pour plus d’informations. Pour plus d’informations, consultez Jupyter <a href='command:jupyter.viewOutput'>log</a>."
     ]
    }
   ],
   "source": [
    "pygame.init()\n",
    "\n",
    "screen = pygame.display.set_mode((500, 500))\n",
    "screen.fill(\"white\")\n",
    "pygame.display.set_caption(\"Propagation d'un feu de forêt\")\n",
    "\n",
    "data = create_database(50,50,0.8)\n",
    "proba=np.random.choice(np.array([0.2,0.5,0.8]))\n",
    "\n",
    "while feuerausbreitung(data, proba)!=0:\n",
    "    for event in pygame.event.get():\n",
    "        if event.type == pygame.QUIT:\n",
    "           pygame.quit()\n",
    "    init_feuerausbreitung(data)\n",
    "    draw(screen,data)\n",
    "    plt.pause(0.1)\n",
    "    display.clear_output(wait=True)\n",
    "\n",
    "pygame.quit()\n",
    "\n"
   ]
  },
  {
   "cell_type": "code",
   "execution_count": null,
   "id": "1f244231",
   "metadata": {},
   "outputs": [],
   "source": [
    "\n"
   ]
  },
  {
   "cell_type": "code",
   "execution_count": null,
   "id": "6bc560bb",
   "metadata": {},
   "outputs": [],
   "source": [
    "\n"
   ]
  },
  {
   "cell_type": "code",
   "execution_count": null,
   "id": "48e8ddbe",
   "metadata": {},
   "outputs": [],
   "source": [
    "\n"
   ]
  }
 ],
 "metadata": {
  "kernelspec": {
   "display_name": "SageMath 9.8",
   "language": "sage",
   "name": "SageMath-9.8"
  },
  "language_info": {
   "codemirror_mode": {
    "name": "ipython",
    "version": 3
   },
   "file_extension": ".py",
   "mimetype": "text/x-python",
   "name": "python",
   "nbconvert_exporter": "python",
   "pygments_lexer": "ipython3",
   "version": "3.11.1"
  }
 },
 "nbformat": 4,
 "nbformat_minor": 5
}
